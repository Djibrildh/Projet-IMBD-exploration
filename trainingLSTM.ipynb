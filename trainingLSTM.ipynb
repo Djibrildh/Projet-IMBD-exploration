{
 "cells": [
  {
   "cell_type": "code",
   "execution_count": 76,
   "id": "83099071",
   "metadata": {},
   "outputs": [],
   "source": [
    "import numpy as np\n",
    "import pandas as pd\n",
    "from tensorflow.keras.preprocessing.text import Tokenizer\n",
    "from tensorflow.keras.preprocessing.sequence import pad_sequences\n",
    "from sklearn.model_selection import train_test_split\n",
    "from gensim.models import Word2Vec\n",
    "from tensorflow.keras.models import Sequential\n",
    "from tensorflow.keras.layers import Embedding, LSTM, Dense, Dropout"
   ]
  },
  {
   "cell_type": "code",
   "execution_count": 77,
   "id": "8140f559",
   "metadata": {},
   "outputs": [],
   "source": [
    "df = pd.read_csv(\"archive/clean_IMDB3.csv\")\n",
    "\n",
    "X = df[\"clean_review\"]\n",
    "y = df[\"sentiment\"].map({\"positive\":1, \"negative\":0})\n",
    "\n",
    "X_train, X_test, y_train, y_test = train_test_split(\n",
    "    X, y, test_size=0.2, stratify=y, random_state=42\n",
    ")"
   ]
  },
  {
   "cell_type": "code",
   "execution_count": 79,
   "id": "f87149a6",
   "metadata": {},
   "outputs": [],
   "source": [
    "w2v_model = Word2Vec.load(\"modelW2V/modelWV6.model\")"
   ]
  },
  {
   "cell_type": "code",
   "execution_count": 80,
   "id": "9c194ee3",
   "metadata": {},
   "outputs": [],
   "source": [
    "embedding_dim = w2v_model.vector_size\n",
    "word_vectors = w2v_model.wv"
   ]
  },
  {
   "cell_type": "code",
   "execution_count": 81,
   "id": "cc7d6e2d",
   "metadata": {},
   "outputs": [],
   "source": [
    "max_words = 20000\n",
    "max_len = 200 "
   ]
  },
  {
   "cell_type": "code",
   "execution_count": 82,
   "id": "7b457b4c",
   "metadata": {},
   "outputs": [],
   "source": [
    "import ast\n",
    "tokenizer = Tokenizer(num_words=max_words, oov_token=\"<OOV>\")\n",
    "\n",
    "train_tokens = df.loc[X_train.index, \"clean_review\"].apply(ast.literal_eval)\n",
    "tokenizer.fit_on_texts(train_tokens.apply(lambda toks: \" \".join(toks)))"
   ]
  },
  {
   "cell_type": "code",
   "execution_count": 83,
   "id": "fde5651a",
   "metadata": {},
   "outputs": [],
   "source": [
    "X_train_text = train_tokens.apply(lambda toks: \" \".join(toks))\n",
    "test_tokens = df.loc[X_test.index, \"clean_review\"].apply(ast.literal_eval)\n",
    "X_test_text  = test_tokens.apply(lambda toks: \" \".join(toks))"
   ]
  },
  {
   "cell_type": "code",
   "execution_count": 84,
   "id": "29afe82b",
   "metadata": {},
   "outputs": [],
   "source": [
    "X_train_seq = tokenizer.texts_to_sequences(X_train_text)\n",
    "X_test_seq  = tokenizer.texts_to_sequences(X_test_text)"
   ]
  },
  {
   "cell_type": "code",
   "execution_count": 85,
   "id": "e4593a5f",
   "metadata": {},
   "outputs": [],
   "source": [
    "X_train_pad = pad_sequences(X_train_seq, maxlen=max_len)\n",
    "X_test_pad  = pad_sequences(X_test_seq, maxlen=max_len)"
   ]
  },
  {
   "cell_type": "code",
   "execution_count": null,
   "id": "d8bfaac5",
   "metadata": {},
   "outputs": [],
   "source": [
    "word_index = tokenizer.word_index \n",
    "num_words = min(max_words, len(word_index) + 1)"
   ]
  },
  {
   "cell_type": "code",
   "execution_count": null,
   "id": "03579fd7",
   "metadata": {},
   "outputs": [],
   "source": [
    "wv = w2v_model.wv\n",
    "vocab_w2v = wv.key_to_index"
   ]
  },
  {
   "cell_type": "code",
   "execution_count": 88,
   "id": "6782594f",
   "metadata": {},
   "outputs": [],
   "source": [
    "embedding_matrix = np.random.normal(0, 0.05, (num_words, embedding_dim)).astype(np.float32)\n",
    "embedding_matrix[0] = 0.0"
   ]
  },
  {
   "cell_type": "code",
   "execution_count": 89,
   "id": "a1737b38",
   "metadata": {},
   "outputs": [],
   "source": [
    "for word, i in word_index.items():\n",
    "    if i < num_words and word in vocab_w2v:\n",
    "        embedding_matrix[i] = wv[word]"
   ]
  },
  {
   "cell_type": "code",
   "execution_count": 90,
   "id": "dc0c57b0",
   "metadata": {},
   "outputs": [
    {
     "name": "stderr",
     "output_type": "stream",
     "text": [
      "c:\\Users\\djibr\\miniconda3\\envs\\terEnv\\Lib\\site-packages\\keras\\src\\layers\\core\\embedding.py:97: UserWarning: Argument `input_length` is deprecated. Just remove it.\n",
      "  warnings.warn(\n"
     ]
    }
   ],
   "source": [
    "model = Sequential([\n",
    "    Embedding(input_dim=num_words, output_dim=embedding_dim,\n",
    "              weights=[embedding_matrix], input_length=max_len,\n",
    "              trainable=True, mask_zero=True),\n",
    "    LSTM(128, dropout=0.2, recurrent_dropout=0.2),\n",
    "    Dense(1, activation=\"sigmoid\")\n",
    "])"
   ]
  },
  {
   "cell_type": "code",
   "execution_count": 91,
   "id": "9b9ac4fb",
   "metadata": {},
   "outputs": [
    {
     "data": {
      "text/html": [
       "<pre style=\"white-space:pre;overflow-x:auto;line-height:normal;font-family:Menlo,'DejaVu Sans Mono',consolas,'Courier New',monospace\"><span style=\"font-weight: bold\">Model: \"sequential_3\"</span>\n",
       "</pre>\n"
      ],
      "text/plain": [
       "\u001b[1mModel: \"sequential_3\"\u001b[0m\n"
      ]
     },
     "metadata": {},
     "output_type": "display_data"
    },
    {
     "data": {
      "text/html": [
       "<pre style=\"white-space:pre;overflow-x:auto;line-height:normal;font-family:Menlo,'DejaVu Sans Mono',consolas,'Courier New',monospace\">┏━━━━━━━━━━━━━━━━━━━━━━━━━━━━━━━━━┳━━━━━━━━━━━━━━━━━━━━━━━━┳━━━━━━━━━━━━━━━┓\n",
       "┃<span style=\"font-weight: bold\"> Layer (type)                    </span>┃<span style=\"font-weight: bold\"> Output Shape           </span>┃<span style=\"font-weight: bold\">       Param # </span>┃\n",
       "┡━━━━━━━━━━━━━━━━━━━━━━━━━━━━━━━━━╇━━━━━━━━━━━━━━━━━━━━━━━━╇━━━━━━━━━━━━━━━┩\n",
       "│ embedding_3 (<span style=\"color: #0087ff; text-decoration-color: #0087ff\">Embedding</span>)         │ ?                      │     <span style=\"color: #00af00; text-decoration-color: #00af00\">2,000,000</span> │\n",
       "├─────────────────────────────────┼────────────────────────┼───────────────┤\n",
       "│ lstm_3 (<span style=\"color: #0087ff; text-decoration-color: #0087ff\">LSTM</span>)                   │ ?                      │   <span style=\"color: #00af00; text-decoration-color: #00af00\">0</span> (unbuilt) │\n",
       "├─────────────────────────────────┼────────────────────────┼───────────────┤\n",
       "│ dense_3 (<span style=\"color: #0087ff; text-decoration-color: #0087ff\">Dense</span>)                 │ ?                      │   <span style=\"color: #00af00; text-decoration-color: #00af00\">0</span> (unbuilt) │\n",
       "└─────────────────────────────────┴────────────────────────┴───────────────┘\n",
       "</pre>\n"
      ],
      "text/plain": [
       "┏━━━━━━━━━━━━━━━━━━━━━━━━━━━━━━━━━┳━━━━━━━━━━━━━━━━━━━━━━━━┳━━━━━━━━━━━━━━━┓\n",
       "┃\u001b[1m \u001b[0m\u001b[1mLayer (type)                   \u001b[0m\u001b[1m \u001b[0m┃\u001b[1m \u001b[0m\u001b[1mOutput Shape          \u001b[0m\u001b[1m \u001b[0m┃\u001b[1m \u001b[0m\u001b[1m      Param #\u001b[0m\u001b[1m \u001b[0m┃\n",
       "┡━━━━━━━━━━━━━━━━━━━━━━━━━━━━━━━━━╇━━━━━━━━━━━━━━━━━━━━━━━━╇━━━━━━━━━━━━━━━┩\n",
       "│ embedding_3 (\u001b[38;5;33mEmbedding\u001b[0m)         │ ?                      │     \u001b[38;5;34m2,000,000\u001b[0m │\n",
       "├─────────────────────────────────┼────────────────────────┼───────────────┤\n",
       "│ lstm_3 (\u001b[38;5;33mLSTM\u001b[0m)                   │ ?                      │   \u001b[38;5;34m0\u001b[0m (unbuilt) │\n",
       "├─────────────────────────────────┼────────────────────────┼───────────────┤\n",
       "│ dense_3 (\u001b[38;5;33mDense\u001b[0m)                 │ ?                      │   \u001b[38;5;34m0\u001b[0m (unbuilt) │\n",
       "└─────────────────────────────────┴────────────────────────┴───────────────┘\n"
      ]
     },
     "metadata": {},
     "output_type": "display_data"
    },
    {
     "data": {
      "text/html": [
       "<pre style=\"white-space:pre;overflow-x:auto;line-height:normal;font-family:Menlo,'DejaVu Sans Mono',consolas,'Courier New',monospace\"><span style=\"font-weight: bold\"> Total params: </span><span style=\"color: #00af00; text-decoration-color: #00af00\">2,000,000</span> (7.63 MB)\n",
       "</pre>\n"
      ],
      "text/plain": [
       "\u001b[1m Total params: \u001b[0m\u001b[38;5;34m2,000,000\u001b[0m (7.63 MB)\n"
      ]
     },
     "metadata": {},
     "output_type": "display_data"
    },
    {
     "data": {
      "text/html": [
       "<pre style=\"white-space:pre;overflow-x:auto;line-height:normal;font-family:Menlo,'DejaVu Sans Mono',consolas,'Courier New',monospace\"><span style=\"font-weight: bold\"> Trainable params: </span><span style=\"color: #00af00; text-decoration-color: #00af00\">2,000,000</span> (7.63 MB)\n",
       "</pre>\n"
      ],
      "text/plain": [
       "\u001b[1m Trainable params: \u001b[0m\u001b[38;5;34m2,000,000\u001b[0m (7.63 MB)\n"
      ]
     },
     "metadata": {},
     "output_type": "display_data"
    },
    {
     "data": {
      "text/html": [
       "<pre style=\"white-space:pre;overflow-x:auto;line-height:normal;font-family:Menlo,'DejaVu Sans Mono',consolas,'Courier New',monospace\"><span style=\"font-weight: bold\"> Non-trainable params: </span><span style=\"color: #00af00; text-decoration-color: #00af00\">0</span> (0.00 B)\n",
       "</pre>\n"
      ],
      "text/plain": [
       "\u001b[1m Non-trainable params: \u001b[0m\u001b[38;5;34m0\u001b[0m (0.00 B)\n"
      ]
     },
     "metadata": {},
     "output_type": "display_data"
    }
   ],
   "source": [
    "model.compile(optimizer=\"adam\", loss=\"binary_crossentropy\", metrics=[\"accuracy\"])\n",
    "model.summary()"
   ]
  },
  {
   "cell_type": "code",
   "execution_count": 93,
   "id": "22f04ea8",
   "metadata": {},
   "outputs": [],
   "source": [
    "from tensorflow.keras.callbacks import EarlyStopping\n",
    "\n",
    "es = EarlyStopping(monitor=\"val_accuracy\", patience=1, restore_best_weights=True)"
   ]
  },
  {
   "cell_type": "code",
   "execution_count": 94,
   "id": "c11c0479",
   "metadata": {},
   "outputs": [
    {
     "name": "stdout",
     "output_type": "stream",
     "text": [
      "Epoch 1/5\n",
      "\u001b[1m500/500\u001b[0m \u001b[32m━━━━━━━━━━━━━━━━━━━━\u001b[0m\u001b[37m\u001b[0m \u001b[1m201s\u001b[0m 399ms/step - accuracy: 0.8094 - loss: 0.4257 - val_accuracy: 0.7496 - val_loss: 0.5182\n",
      "Epoch 2/5\n",
      "\u001b[1m500/500\u001b[0m \u001b[32m━━━━━━━━━━━━━━━━━━━━\u001b[0m\u001b[37m\u001b[0m \u001b[1m191s\u001b[0m 381ms/step - accuracy: 0.8682 - loss: 0.3207 - val_accuracy: 0.8849 - val_loss: 0.2851\n",
      "Epoch 3/5\n",
      "\u001b[1m500/500\u001b[0m \u001b[32m━━━━━━━━━━━━━━━━━━━━\u001b[0m\u001b[37m\u001b[0m \u001b[1m188s\u001b[0m 377ms/step - accuracy: 0.9027 - loss: 0.2499 - val_accuracy: 0.8792 - val_loss: 0.2952\n"
     ]
    }
   ],
   "source": [
    "history = model.fit(\n",
    "    X_train_pad, y_train,\n",
    "    validation_split=0.2,\n",
    "    epochs=5,\n",
    "    batch_size=64,\n",
    "    verbose=1, \n",
    "    callbacks=[es]\n",
    ")"
   ]
  },
  {
   "cell_type": "code",
   "execution_count": 95,
   "id": "966433d6",
   "metadata": {},
   "outputs": [
    {
     "name": "stdout",
     "output_type": "stream",
     "text": [
      "Accuracy sur test: 0.8851000070571899\n"
     ]
    }
   ],
   "source": [
    "loss, acc = model.evaluate(X_test_pad, y_test, verbose=0)\n",
    "print(\"Accuracy sur test:\", acc)"
   ]
  },
  {
   "cell_type": "code",
   "execution_count": 96,
   "id": "876c3024",
   "metadata": {},
   "outputs": [],
   "source": [
    "import pickle, json\n",
    "with open(\"lstmtokenizerV4.pkl\", \"wb\") as f:\n",
    "    pickle.dump(tokenizer, f)"
   ]
  },
  {
   "cell_type": "code",
   "execution_count": 97,
   "id": "dd5e0866",
   "metadata": {},
   "outputs": [],
   "source": [
    "class_names = [\"negative\", \"positive\"]\n",
    "with open(\"lstmclass_namesV4.json\", \"w\") as f:\n",
    "    json.dump(class_names, f)"
   ]
  },
  {
   "cell_type": "code",
   "execution_count": 98,
   "id": "fad59e07",
   "metadata": {},
   "outputs": [],
   "source": [
    "json.dump({\"max_len\": max_len}, open(\"lstmconfigV4.json\",\"w\"))"
   ]
  },
  {
   "cell_type": "code",
   "execution_count": 99,
   "id": "a36213bb",
   "metadata": {},
   "outputs": [
    {
     "data": {
      "image/png": "[encoded data removed]",
      "text/plain": [
       "<Figure size 640x480 with 1 Axes>"
      ]
     },
     "metadata": {},
     "output_type": "display_data"
    }
   ],
   "source": [
    "import matplotlib.pyplot as plt\n",
    "\n",
    "plt.plot(history.history['accuracy'], label='Train')\n",
    "plt.plot(history.history['val_accuracy'], label='Validation')\n",
    "plt.xlabel(\"Epochs\"); plt.ylabel(\"Accuracy\"); plt.legend()\n",
    "plt.title(\"Courbe d'apprentissage LSTM\")\n",
    "plt.show()"
   ]
  },
  {
   "cell_type": "code",
   "execution_count": 100,
   "id": "b01287d0",
   "metadata": {},
   "outputs": [
    {
     "name": "stderr",
     "output_type": "stream",
     "text": [
      "WARNING:absl:You are saving your model as an HDF5 file via `model.save()` or `keras.saving.save_model(model)`. This file format is considered legacy. We recommend using instead the native Keras format, e.g. `model.save('my_model.keras')` or `keras.saving.save_model(model, 'my_model.keras')`. \n"
     ]
    }
   ],
   "source": [
    "model.save(\"lstmModelV4.h5\")\n",
    "model.save(\"lstmModelV4.keras\")"
   ]
  },
  {
   "cell_type": "code",
   "execution_count": 101,
   "id": "e6d67ebe",
   "metadata": {},
   "outputs": [
    {
     "name": "stdout",
     "output_type": "stream",
     "text": [
      "47808    1\n",
      "20154    0\n",
      "43069    0\n",
      "19413    0\n",
      "13673    0\n",
      "        ..\n",
      "31092    1\n",
      "22917    0\n",
      "47481    0\n",
      "35597    0\n",
      "27491    0\n",
      "Name: sentiment, Length: 40000, dtype: int64\n",
      "18870    0\n",
      "39791    0\n",
      "30381    1\n",
      "42294    0\n",
      "33480    0\n",
      "        ..\n",
      "3634     0\n",
      "47910    0\n",
      "16086    0\n",
      "48294    1\n",
      "4478     0\n",
      "Name: sentiment, Length: 10000, dtype: int64\n"
     ]
    }
   ],
   "source": [
    "print(y_train)\n",
    "print(y_test)"
   ]
  },
  {
   "cell_type": "code",
   "execution_count": 102,
   "id": "eb9e8d9f",
   "metadata": {},
   "outputs": [
    {
     "name": "stdout",
     "output_type": "stream",
     "text": [
      "Couverture W2V : 19998/19999 = 1.000\n",
      "Exemples OOV : ['<OOV>']\n"
     ]
    }
   ],
   "source": [
    "in_vocab = 0; total = 0; oov_examples = []\n",
    "for w, i in word_index.items():\n",
    "    if i < max_words:\n",
    "        total += 1\n",
    "        if w in vocab_w2v:\n",
    "            in_vocab += 1\n",
    "        elif len(oov_examples) < 10:\n",
    "            oov_examples.append(w)\n",
    "print(f\"Couverture W2V : {in_vocab}/{total} = {in_vocab/max(1,total):.3f}\")\n",
    "print(\"Exemples OOV :\", oov_examples)"
   ]
  },
  {
   "cell_type": "code",
   "execution_count": null,
   "id": "67e98796",
   "metadata": {},
   "outputs": [
    {
     "name": "stderr",
     "output_type": "stream",
     "text": [
      "WARNING:absl:Compiled the loaded model, but the compiled metrics have yet to be built. `model.compile_metrics` will be empty until you train or evaluate the model.\n"
     ]
    }
   ],
   "source": [
    "from tensorflow.keras.models import load_model\n",
    "\n",
    "modelTest = load_model(\"lstmModelV4.h5\")\n",
    "tokenizer = pickle.load(open(\"lstmtokenizerV4.pkl\",\"rb\"))\n",
    "max_len = json.load(open(\"lstmconfigV4.json\"))[\"max_len\"]\n",
    "class_names = json.load(open(\"lstmclass_namesV4.json\"))"
   ]
  },
  {
   "cell_type": "code",
   "execution_count": null,
   "id": "90891dd9",
   "metadata": {},
   "outputs": [],
   "source": [
    "def pretraitement_review(model, texts, threshold=0.5):\n",
    "    \"\"\"\n",
    "    texts: list of raw reviews (str)\n",
    "    return: liste (label, positive probabilities)\n",
    "    \"\"\"\n",
    "    seq = tokenizer.texts_to_sequences(texts)\n",
    "    pad = pad_sequences(seq, maxlen=max_len)\n",
    "\n",
    "    proba = model.predict(pad, verbose=0).ravel()\n",
    "    labels_idx = (proba >= threshold).astype(int)\n",
    "    labels = [class_names[i] for i in labels_idx]\n",
    "    return list(zip(labels, proba))"
   ]
  },
  {
   "cell_type": "code",
   "execution_count": 109,
   "id": "548cbb35",
   "metadata": {},
   "outputs": [
    {
     "name": "stdout",
     "output_type": "stream",
     "text": [
      "negative  (proba positive = 0.414)\n",
      "positive  (proba positive = 0.923)\n"
     ]
    }
   ],
   "source": [
    "samples = [\n",
    "    \"This movie is awful. Boring plot and terrible acting.\",\n",
    "    \"Absolutely loved it! Great story and brilliant performances.\"\n",
    "]\n",
    "for lab, p in pretraitement_review(modelTest, samples):\n",
    "    print(f\"{lab}  (proba positive = {p:.3f})\")"
   ]
  }
 ],
 "metadata": {
  "kernelspec": {
   "display_name": "terEnv",
   "language": "python",
   "name": "python3"
  },
  "language_info": {
   "codemirror_mode": {
    "name": "ipython",
    "version": 3
   },
   "file_extension": ".py",
   "mimetype": "text/x-python",
   "name": "python",
   "nbconvert_exporter": "python",
   "pygments_lexer": "ipython3",
   "version": "3.11.13"
  }
 },
 "nbformat": 4,
 "nbformat_minor": 5
}
