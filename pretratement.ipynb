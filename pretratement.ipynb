{
 "cells": [
  {
   "cell_type": "code",
   "execution_count": 8,
   "id": "3c615774",
   "metadata": {},
   "outputs": [],
   "source": [
    "import pandas as pd\n",
    "import re\n",
    "from dataVisualisation import viewData, viewDistrib\n",
    "from bs4 import BeautifulSoup\n",
    "import nltk\n",
    "from sklearn.model_selection import train_test_split\n",
    "from sklearn.feature_extraction.text import TfidfVectorizer\n",
    "import gensim\n",
    "import spacy\n",
    "from nltk.corpus import stopwords\n",
    "from gensim.utils import simple_preprocess\n",
    "from gensim.models import Word2Vec as wv\n",
    "from nltk.stem import PorterStemmer"
   ]
  },
  {
   "cell_type": "code",
   "execution_count": 9,
   "id": "501fa797",
   "metadata": {},
   "outputs": [],
   "source": [
    "df = pd.read_csv(\"archive/IMDB Dataset.csv\")"
   ]
  },
  {
   "cell_type": "code",
   "execution_count": 10,
   "id": "d2bac75e",
   "metadata": {},
   "outputs": [
    {
     "data": {
      "text/plain": [
       "\"One of the other reviewers has mentioned that after watching just 1 Oz episode you'll be hooked. They are right, as this is exactly what happened with me.<br /><br />The first thing that struck me about Oz was its brutality and unflinching scenes of violence, which set in right from the word GO. Trust me, this is not a show for the faint hearted or timid. This show pulls no punches with regards to drugs, sex or violence. Its is hardcore, in the classic use of the word.<br /><br />It is called OZ as that is the nickname given to the Oswald Maximum Security State Penitentary. It focuses mainly on Emerald City, an experimental section of the prison where all the cells have glass fronts and face inwards, so privacy is not high on the agenda. Em City is home to many..Aryans, Muslims, gangstas, Latinos, Christians, Italians, Irish and more....so scuffles, death stares, dodgy dealings and shady agreements are never far away.<br /><br />I would say the main appeal of the show is due to the fact that it goes where other shows wouldn't dare. Forget pretty pictures painted for mainstream audiences, forget charm, forget romance...OZ doesn't mess around. The first episode I ever saw struck me as so nasty it was surreal, I couldn't say I was ready for it, but as I watched more, I developed a taste for Oz, and got accustomed to the high levels of graphic violence. Not just violence, but injustice (crooked guards who'll be sold out for a nickel, inmates who'll kill on order and get away with it, well mannered, middle class inmates being turned into prison bitches due to their lack of street skills or prison experience) Watching Oz, you may become comfortable with what is uncomfortable viewing....thats if you can get in touch with your darker side.\""
      ]
     },
     "execution_count": 10,
     "metadata": {},
     "output_type": "execute_result"
    }
   ],
   "source": [
    "df.review[0]"
   ]
  },
  {
   "cell_type": "code",
   "execution_count": 11,
   "id": "f58b3b59",
   "metadata": {},
   "outputs": [
    {
     "data": {
      "text/plain": [
       "['one',\n",
       " 'of',\n",
       " 'the',\n",
       " 'other',\n",
       " 'reviewers',\n",
       " 'has',\n",
       " 'mentioned',\n",
       " 'that',\n",
       " 'after',\n",
       " 'watching',\n",
       " 'just',\n",
       " 'oz',\n",
       " 'episode',\n",
       " 'you',\n",
       " 'll',\n",
       " 'be',\n",
       " 'hooked',\n",
       " 'they',\n",
       " 'are',\n",
       " 'right',\n",
       " 'as',\n",
       " 'this',\n",
       " 'is',\n",
       " 'exactly',\n",
       " 'what',\n",
       " 'happened',\n",
       " 'with',\n",
       " 'me',\n",
       " 'br',\n",
       " 'br',\n",
       " 'the',\n",
       " 'first',\n",
       " 'thing',\n",
       " 'that',\n",
       " 'struck',\n",
       " 'me',\n",
       " 'about',\n",
       " 'oz',\n",
       " 'was',\n",
       " 'its',\n",
       " 'brutality',\n",
       " 'and',\n",
       " 'unflinching',\n",
       " 'scenes',\n",
       " 'of',\n",
       " 'violence',\n",
       " 'which',\n",
       " 'set',\n",
       " 'in',\n",
       " 'right',\n",
       " 'from',\n",
       " 'the',\n",
       " 'word',\n",
       " 'go',\n",
       " 'trust',\n",
       " 'me',\n",
       " 'this',\n",
       " 'is',\n",
       " 'not',\n",
       " 'show',\n",
       " 'for',\n",
       " 'the',\n",
       " 'faint',\n",
       " 'hearted',\n",
       " 'or',\n",
       " 'timid',\n",
       " 'this',\n",
       " 'show',\n",
       " 'pulls',\n",
       " 'no',\n",
       " 'punches',\n",
       " 'with',\n",
       " 'regards',\n",
       " 'to',\n",
       " 'drugs',\n",
       " 'sex',\n",
       " 'or',\n",
       " 'violence',\n",
       " 'its',\n",
       " 'is',\n",
       " 'hardcore',\n",
       " 'in',\n",
       " 'the',\n",
       " 'classic',\n",
       " 'use',\n",
       " 'of',\n",
       " 'the',\n",
       " 'word',\n",
       " 'br',\n",
       " 'br',\n",
       " 'it',\n",
       " 'is',\n",
       " 'called',\n",
       " 'oz',\n",
       " 'as',\n",
       " 'that',\n",
       " 'is',\n",
       " 'the',\n",
       " 'nickname',\n",
       " 'given',\n",
       " 'to',\n",
       " 'the',\n",
       " 'oswald',\n",
       " 'maximum',\n",
       " 'security',\n",
       " 'state',\n",
       " 'penitentary',\n",
       " 'it',\n",
       " 'focuses',\n",
       " 'mainly',\n",
       " 'on',\n",
       " 'emerald',\n",
       " 'city',\n",
       " 'an',\n",
       " 'experimental',\n",
       " 'section',\n",
       " 'of',\n",
       " 'the',\n",
       " 'prison',\n",
       " 'where',\n",
       " 'all',\n",
       " 'the',\n",
       " 'cells',\n",
       " 'have',\n",
       " 'glass',\n",
       " 'fronts',\n",
       " 'and',\n",
       " 'face',\n",
       " 'inwards',\n",
       " 'so',\n",
       " 'privacy',\n",
       " 'is',\n",
       " 'not',\n",
       " 'high',\n",
       " 'on',\n",
       " 'the',\n",
       " 'agenda',\n",
       " 'em',\n",
       " 'city',\n",
       " 'is',\n",
       " 'home',\n",
       " 'to',\n",
       " 'many',\n",
       " 'aryans',\n",
       " 'muslims',\n",
       " 'gangstas',\n",
       " 'latinos',\n",
       " 'christians',\n",
       " 'italians',\n",
       " 'irish',\n",
       " 'and',\n",
       " 'more',\n",
       " 'so',\n",
       " 'scuffles',\n",
       " 'death',\n",
       " 'stares',\n",
       " 'dodgy',\n",
       " 'dealings',\n",
       " 'and',\n",
       " 'shady',\n",
       " 'agreements',\n",
       " 'are',\n",
       " 'never',\n",
       " 'far',\n",
       " 'away',\n",
       " 'br',\n",
       " 'br',\n",
       " 'would',\n",
       " 'say',\n",
       " 'the',\n",
       " 'main',\n",
       " 'appeal',\n",
       " 'of',\n",
       " 'the',\n",
       " 'show',\n",
       " 'is',\n",
       " 'due',\n",
       " 'to',\n",
       " 'the',\n",
       " 'fact',\n",
       " 'that',\n",
       " 'it',\n",
       " 'goes',\n",
       " 'where',\n",
       " 'other',\n",
       " 'shows',\n",
       " 'wouldn',\n",
       " 'dare',\n",
       " 'forget',\n",
       " 'pretty',\n",
       " 'pictures',\n",
       " 'painted',\n",
       " 'for',\n",
       " 'mainstream',\n",
       " 'audiences',\n",
       " 'forget',\n",
       " 'charm',\n",
       " 'forget',\n",
       " 'romance',\n",
       " 'oz',\n",
       " 'doesn',\n",
       " 'mess',\n",
       " 'around',\n",
       " 'the',\n",
       " 'first',\n",
       " 'episode',\n",
       " 'ever',\n",
       " 'saw',\n",
       " 'struck',\n",
       " 'me',\n",
       " 'as',\n",
       " 'so',\n",
       " 'nasty',\n",
       " 'it',\n",
       " 'was',\n",
       " 'surreal',\n",
       " 'couldn',\n",
       " 'say',\n",
       " 'was',\n",
       " 'ready',\n",
       " 'for',\n",
       " 'it',\n",
       " 'but',\n",
       " 'as',\n",
       " 'watched',\n",
       " 'more',\n",
       " 'developed',\n",
       " 'taste',\n",
       " 'for',\n",
       " 'oz',\n",
       " 'and',\n",
       " 'got',\n",
       " 'accustomed',\n",
       " 'to',\n",
       " 'the',\n",
       " 'high',\n",
       " 'levels',\n",
       " 'of',\n",
       " 'graphic',\n",
       " 'violence',\n",
       " 'not',\n",
       " 'just',\n",
       " 'violence',\n",
       " 'but',\n",
       " 'injustice']"
      ]
     },
     "execution_count": 11,
     "metadata": {},
     "output_type": "execute_result"
    }
   ],
   "source": [
    "gensim.utils.simple_preprocess(\"One of the other reviewers has mentioned that after watching just 1 Oz episode you'll be hooked. They are right, as this is exactly what happened with me.<br /><br />The first thing that struck me about Oz was its brutality and unflinching scenes of violence, which set in right from the word GO. Trust me, this is not a show for the faint hearted or timid. This show pulls no punches with regards to drugs, sex or violence. Its is hardcore, in the classic use of the word.<br /><br />It is called OZ as that is the nickname given to the Oswald Maximum Security State Penitentary. It focuses mainly on Emerald City, an experimental section of the prison where all the cells have glass fronts and face inwards, so privacy is not high on the agenda. Em City is home to many..Aryans, Muslims, gangstas, Latinos, Christians, Italians, Irish and more....so scuffles, death stares, dodgy dealings and shady agreements are never far away.<br /><br />I would say the main appeal of the show is due to the fact that it goes where other shows wouldn't dare. Forget pretty pictures painted for mainstream audiences, forget charm, forget romance...OZ doesn't mess around. The first episode I ever saw struck me as so nasty it was surreal, I couldn't say I was ready for it, but as I watched more, I developed a taste for Oz, and got accustomed to the high levels of graphic violence. Not just violence, but injustice\")"
   ]
  },
  {
   "cell_type": "markdown",
   "id": "eb2bc61b",
   "metadata": {},
   "source": [
    "#### First attempt to clean the data set.\n",
    "\n",
    "This version does not include the lemmatization and stemming."
   ]
  },
  {
   "cell_type": "code",
   "execution_count": null,
   "id": "a110bbd0",
   "metadata": {},
   "outputs": [
    {
     "name": "stderr",
     "output_type": "stream",
     "text": [
      "[nltk_data] Downloading package stopwords to\n",
      "[nltk_data]     C:\\Users\\djibr\\AppData\\Roaming\\nltk_data...\n",
      "[nltk_data]   Package stopwords is already up-to-date!\n"
     ]
    }
   ],
   "source": [
    "nltk.download('stopwords')\n",
    "stop_words = set(stopwords.words(\"english\"))\n",
    "\n",
    "def fastDataCleaner(text):\n",
    "    '''\n",
    "        Function : clean the dataBase\n",
    "            1. Remove HTML tags\n",
    "            2. Tokenizer + cleaning with gensim\n",
    "            3. Remove stopwords\n",
    "    '''\n",
    "    \n",
    "    # 1. Supprimer balises HTML\n",
    "    text = BeautifulSoup(text, \"html.parser\").get_text()\n",
    "\n",
    "    # 2. Tokenizer + nettoyage avec gensim\n",
    "    tokens = simple_preprocess(text)  # deacc=True supprime ponctuation\n",
    "\n",
    "    # 3. Supprimer stopwords\n",
    "    tokens = [tok for tok in tokens if tok not in stop_words]\n",
    "\n",
    "    return tokens\n",
    "\n",
    "# Enregistre le df dans un fichier csv\n",
    "def saveDF(df, number):\n",
    "    df.to_csv(f\"clean_IMDB{number}.csv\", index=False)\n",
    "    df.to_pickle(f\"clean_IMDB{number}.pkl\")\n",
    "\n",
    "def saveModel(model,name):\n",
    "    model.save(f\"{name}.model\")"
   ]
  },
  {
   "cell_type": "code",
   "execution_count": 13,
   "id": "e54c89fa",
   "metadata": {},
   "outputs": [
    {
     "name": "stdout",
     "output_type": "stream",
     "text": [
      "3.8.2\n",
      "1.26.4\n",
      "4.3.2\n"
     ]
    }
   ],
   "source": [
    "import numpy as np\n",
    "print(spacy.__version__)\n",
    "print(np.__version__)\n",
    "print(gensim.__version__)"
   ]
  },
  {
   "cell_type": "markdown",
   "id": "326d607c",
   "metadata": {},
   "source": [
    "import numpy as np\n",
    "print(spacy.__version__)\n",
    "print(np.__version__)\n",
    "print(gensim.__version__)\n",
    "3.8.2\n",
    "1.26.4\n",
    "4.3.2"
   ]
  },
  {
   "cell_type": "markdown",
   "id": "c2de6c65",
   "metadata": {},
   "source": [
    "#### Training used to clean our DataBase"
   ]
  },
  {
   "cell_type": "code",
   "execution_count": null,
   "id": "9444d065",
   "metadata": {},
   "outputs": [],
   "source": [
    "stop_words = set(stopwords.words(\"english\"))\n",
    "stemmer = PorterStemmer()\n",
    "nlp = spacy.load(\"en_core_web_sm\")\n",
    "\n",
    "def preprocess(text):\n",
    "    '''\n",
    "        Function : clean the dataBase\n",
    "            1. Remove HTML, mentions, hashtags, special characters\n",
    "            2. Tokenizer (gensim)\n",
    "            3. Remove stopwords\n",
    "            4. Lemmatisation (spacy)\n",
    "            5. Stemming\n",
    "    '''\n",
    "    text = BeautifulSoup(text, \"html.parser\").get_text()\n",
    "    text = re.sub(r\"@\\w+|#\\w+|[^a-zA-Z ]\", \" \", text)\n",
    "\n",
    "    tokens = simple_preprocess(text, deacc=True)\n",
    "\n",
    "    tokens = [tok for tok in tokens if tok not in stop_words]\n",
    "\n",
    "    doc = nlp(\" \".join(tokens))\n",
    "    lemmas = [token.lemma_ for token in doc if token.is_alpha]\n",
    "\n",
    "    stems = [stemmer.stem(lemma) for lemma in lemmas]\n",
    "\n",
    "    return stems"
   ]
  },
  {
   "cell_type": "code",
   "execution_count": 15,
   "id": "0e65c567",
   "metadata": {},
   "outputs": [],
   "source": [
    "cdf = pd.DataFrame({\n",
    "    \"clean_review\": df[\"review\"].apply(preprocess),\n",
    "    \"sentiment\": df[\"sentiment\"]\n",
    "})"
   ]
  },
  {
   "cell_type": "code",
   "execution_count": null,
   "id": "a7d2db62",
   "metadata": {},
   "outputs": [],
   "source": [
    "def saveDF(df, number):\n",
    "    '''\n",
    "        Function : Save the DataFrame into a CSV file or a PKL file.\n",
    "    '''\n",
    "    df.to_csv(f\"clean_IMDB{number}.csv\", index=False)\n",
    "    df.to_pickle(f\"clean_IMDB{number}.pkl\")\n",
    "\n",
    "def saveModel(model,name):\n",
    "    '''\n",
    "        Function : Save the Word2Vec model into a .model file. \n",
    "    '''\n",
    "    model.save(f\"{name}.model\")"
   ]
  },
  {
   "cell_type": "code",
   "execution_count": 20,
   "id": "00620aec",
   "metadata": {},
   "outputs": [],
   "source": [
    "saveDF(cdf, 3)"
   ]
  },
  {
   "cell_type": "code",
   "execution_count": 21,
   "id": "e4af309d",
   "metadata": {},
   "outputs": [
    {
     "name": "stdout",
     "output_type": "stream",
     "text": [
      "0        True\n",
      "1        True\n",
      "2        True\n",
      "3        True\n",
      "4        True\n",
      "         ... \n",
      "49995    True\n",
      "49996    True\n",
      "49997    True\n",
      "49998    True\n",
      "49999    True\n",
      "Name: clean_review, Length: 50000, dtype: bool\n"
     ]
    }
   ],
   "source": [
    "clean_reviews = cdf.clean_review\n",
    "\n",
    "print(clean_reviews == cdf.clean_review)"
   ]
  },
  {
   "cell_type": "code",
   "execution_count": 18,
   "id": "7a00beb2",
   "metadata": {},
   "outputs": [
    {
     "data": {
      "text/plain": [
       "pandas.core.series.Series"
      ]
     },
     "execution_count": 18,
     "metadata": {},
     "output_type": "execute_result"
    }
   ],
   "source": [
    "type(clean_reviews)"
   ]
  },
  {
   "cell_type": "code",
   "execution_count": 22,
   "id": "bdc4616a",
   "metadata": {},
   "outputs": [],
   "source": [
    "model = gensim.models.Word2Vec(\n",
    "    window = 10,\n",
    "    min_count = 2,\n",
    "    workers=4\n",
    ")   "
   ]
  },
  {
   "cell_type": "code",
   "execution_count": 23,
   "id": "1a567847",
   "metadata": {},
   "outputs": [],
   "source": [
    "model.build_vocab(clean_reviews, progress_per=1000)"
   ]
  },
  {
   "cell_type": "code",
   "execution_count": 24,
   "id": "4563e1b3",
   "metadata": {},
   "outputs": [
    {
     "data": {
      "text/plain": [
       "5"
      ]
     },
     "execution_count": 24,
     "metadata": {},
     "output_type": "execute_result"
    }
   ],
   "source": [
    "model.epochs"
   ]
  },
  {
   "cell_type": "code",
   "execution_count": 25,
   "id": "fde94c66",
   "metadata": {},
   "outputs": [
    {
     "data": {
      "text/plain": [
       "50000"
      ]
     },
     "execution_count": 25,
     "metadata": {},
     "output_type": "execute_result"
    }
   ],
   "source": [
    "model.corpus_count"
   ]
  },
  {
   "cell_type": "code",
   "execution_count": 26,
   "id": "00aede8a",
   "metadata": {},
   "outputs": [
    {
     "data": {
      "text/plain": [
       "(27250435, 29469920)"
      ]
     },
     "execution_count": 26,
     "metadata": {},
     "output_type": "execute_result"
    }
   ],
   "source": [
    "model.train(clean_reviews, total_examples=model.corpus_count, epochs=model.epochs)"
   ]
  },
  {
   "cell_type": "code",
   "execution_count": 27,
   "id": "c0729a9c",
   "metadata": {},
   "outputs": [],
   "source": [
    "saveModel(model, \"modelWV4\")"
   ]
  },
  {
   "cell_type": "code",
   "execution_count": 28,
   "id": "00491fb7",
   "metadata": {},
   "outputs": [
    {
     "data": {
      "text/plain": [
       "[('worst', 0.7958782911300659),\n",
       " ('terribl', 0.7851450443267822),\n",
       " ('aw', 0.7703185081481934),\n",
       " ('horribl', 0.7569575905799866),\n",
       " ('lousi', 0.7216058373451233),\n",
       " ('wors', 0.7084195017814636),\n",
       " ('crappi', 0.6901121139526367),\n",
       " ('suck', 0.6686270833015442),\n",
       " ('atroci', 0.6559823751449585),\n",
       " ('lame', 0.6535003781318665)]"
      ]
     },
     "execution_count": 28,
     "metadata": {},
     "output_type": "execute_result"
    }
   ],
   "source": [
    "model.wv.most_similar(\"bad\")"
   ]
  },
  {
   "cell_type": "code",
   "execution_count": 30,
   "id": "fc97a6d4",
   "metadata": {},
   "outputs": [],
   "source": [
    "model2 = wv.load(\"modelW2V/testModelV2.model\")"
   ]
  },
  {
   "cell_type": "code",
   "execution_count": 31,
   "id": "e2623612",
   "metadata": {},
   "outputs": [
    {
     "data": {
      "text/plain": [
       "[('awful', 0.7683809399604797),\n",
       " ('terrible', 0.7541758418083191),\n",
       " ('horrible', 0.7350753545761108),\n",
       " ('good', 0.727000892162323),\n",
       " ('lame', 0.682565450668335),\n",
       " ('stupid', 0.6769680976867676),\n",
       " ('lousy', 0.6632498502731323),\n",
       " ('crappy', 0.6457701921463013),\n",
       " ('cheesy', 0.6375147104263306),\n",
       " ('atrocious', 0.6278131008148193)]"
      ]
     },
     "execution_count": 31,
     "metadata": {},
     "output_type": "execute_result"
    }
   ],
   "source": [
    "model2.wv.most_similar(\"bad\")"
   ]
  }
 ],
 "metadata": {
  "kernelspec": {
   "display_name": "terEnv",
   "language": "python",
   "name": "python3"
  },
  "language_info": {
   "codemirror_mode": {
    "name": "ipython",
    "version": 3
   },
   "file_extension": ".py",
   "mimetype": "text/x-python",
   "name": "python",
   "nbconvert_exporter": "python",
   "pygments_lexer": "ipython3",
   "version": "3.11.13"
  }
 },
 "nbformat": 4,
 "nbformat_minor": 5
}
