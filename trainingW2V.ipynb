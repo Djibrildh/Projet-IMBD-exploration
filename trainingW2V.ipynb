{
 "cells": [
  {
   "cell_type": "code",
   "execution_count": 1,
   "id": "4861ed75",
   "metadata": {},
   "outputs": [],
   "source": [
    "import pandas as pd\n",
    "import re\n",
    "from dataVisualisation import viewData, viewDistrib\n",
    "from bs4 import BeautifulSoup\n",
    "import nltk\n",
    "from sklearn.model_selection import train_test_split\n",
    "from sklearn.feature_extraction.text import TfidfVectorizer\n",
    "import gensim\n",
    "import spacy\n",
    "from nltk.corpus import stopwords\n",
    "from gensim.utils import simple_preprocess\n",
    "from gensim.models import Word2Vec as wv\n",
    "from nltk.stem import PorterStemmer"
   ]
  },
  {
   "cell_type": "code",
   "execution_count": 2,
   "id": "b2200bd1",
   "metadata": {},
   "outputs": [],
   "source": [
    "df = pd.read_csv(\"archive/clean_IMDB3.csv\")"
   ]
  },
  {
   "cell_type": "code",
   "execution_count": 3,
   "id": "01e46f40",
   "metadata": {},
   "outputs": [],
   "source": [
    "import ast\n",
    "# Convert the string \"['one','review',...]\" -> real Python list ['one','review',...]\n",
    "clean_reviews = df[\"clean_review\"].apply(ast.literal_eval)\n"
   ]
  },
  {
   "cell_type": "code",
   "execution_count": 4,
   "id": "ff1dc72b",
   "metadata": {},
   "outputs": [],
   "source": [
    "modelwv = gensim.models.Word2Vec(\n",
    "    window = 10,\n",
    "    min_count = 2,\n",
    "    workers=4,\n",
    "    sg=1\n",
    ") "
   ]
  },
  {
   "cell_type": "code",
   "execution_count": 5,
   "id": "6f45f0c2",
   "metadata": {},
   "outputs": [],
   "source": [
    "modelwv.build_vocab(clean_reviews, progress_per=1000)"
   ]
  },
  {
   "cell_type": "code",
   "execution_count": 6,
   "id": "5d2bf62f",
   "metadata": {},
   "outputs": [],
   "source": [
    "epochs = modelwv.epochs"
   ]
  },
  {
   "cell_type": "code",
   "execution_count": 7,
   "id": "66001db7",
   "metadata": {},
   "outputs": [],
   "source": [
    "corpus_count = modelwv.corpus_count"
   ]
  },
  {
   "cell_type": "code",
   "execution_count": 8,
   "id": "11e5e204",
   "metadata": {},
   "outputs": [
    {
     "data": {
      "text/plain": [
       "(27249625, 29469920)"
      ]
     },
     "execution_count": 8,
     "metadata": {},
     "output_type": "execute_result"
    }
   ],
   "source": [
    "modelwv.train(clean_reviews, total_examples=corpus_count, epochs=epochs)"
   ]
  },
  {
   "cell_type": "code",
   "execution_count": 9,
   "id": "aee84133",
   "metadata": {},
   "outputs": [
    {
     "name": "stdout",
     "output_type": "stream",
     "text": [
      "50000\n"
     ]
    }
   ],
   "source": [
    "print(corpus_count)"
   ]
  },
  {
   "cell_type": "code",
   "execution_count": 10,
   "id": "32644826",
   "metadata": {},
   "outputs": [],
   "source": [
    "model2 = wv.load(\"modelW2V/modelWV4.model\")"
   ]
  },
  {
   "cell_type": "code",
   "execution_count": 11,
   "id": "c94f93e6",
   "metadata": {},
   "outputs": [
    {
     "data": {
      "text/plain": [
       "[('worst', 0.7958782911300659),\n",
       " ('terribl', 0.7851450443267822),\n",
       " ('aw', 0.7703185081481934),\n",
       " ('horribl', 0.7569575905799866),\n",
       " ('lousi', 0.7216058373451233),\n",
       " ('wors', 0.7084195017814636),\n",
       " ('crappi', 0.6901121139526367),\n",
       " ('suck', 0.6686270833015442),\n",
       " ('atroci', 0.6559823751449585),\n",
       " ('lame', 0.6535003781318665)]"
      ]
     },
     "execution_count": 11,
     "metadata": {},
     "output_type": "execute_result"
    }
   ],
   "source": [
    "model2.wv.most_similar(\"bad\")"
   ]
  },
  {
   "cell_type": "code",
   "execution_count": 12,
   "id": "d4ed3055",
   "metadata": {},
   "outputs": [],
   "source": [
    "modelwv.save(\"modelWV6.model\")"
   ]
  },
  {
   "cell_type": "code",
   "execution_count": 14,
   "id": "e1eac1ac",
   "metadata": {},
   "outputs": [
    {
     "data": {
      "text/plain": [
       "[('horribl', 0.8412371277809143),\n",
       " ('aw', 0.8408759236335754),\n",
       " ('worst', 0.8395283818244934),\n",
       " ('terribl', 0.8374870419502258),\n",
       " ('cheesiest', 0.8200691342353821),\n",
       " ('stank', 0.8052679300308228),\n",
       " ('wors', 0.8011951446533203),\n",
       " ('lousi', 0.7977039217948914),\n",
       " ('interferencia', 0.794015645980835),\n",
       " ('darkhunt', 0.7928746342658997)]"
      ]
     },
     "execution_count": 14,
     "metadata": {},
     "output_type": "execute_result"
    }
   ],
   "source": [
    "modelwv.wv.most_similar(\"bad\")"
   ]
  }
 ],
 "metadata": {
  "kernelspec": {
   "display_name": "terEnv",
   "language": "python",
   "name": "python3"
  },
  "language_info": {
   "codemirror_mode": {
    "name": "ipython",
    "version": 3
   },
   "file_extension": ".py",
   "mimetype": "text/x-python",
   "name": "python",
   "nbconvert_exporter": "python",
   "pygments_lexer": "ipython3",
   "version": "3.11.13"
  }
 },
 "nbformat": 4,
 "nbformat_minor": 5
}
